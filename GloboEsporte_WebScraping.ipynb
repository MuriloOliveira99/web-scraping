{
  "nbformat": 4,
  "nbformat_minor": 0,
  "metadata": {
    "colab": {
      "name": "GloboEsporte_WebScraping.ipynb",
      "provenance": [],
      "collapsed_sections": []
    },
    "kernelspec": {
      "name": "python3",
      "display_name": "Python 3"
    },
    "language_info": {
      "name": "python"
    }
  },
  "cells": [
    {
      "cell_type": "markdown",
      "source": [
        "# Importando as bibliotecas necessárias\n"
      ],
      "metadata": {
        "id": "74GDZJBF4wxy"
      }
    },
    {
      "cell_type": "code",
      "execution_count": 1,
      "metadata": {
        "id": "RiBh1uDN4sTu"
      },
      "outputs": [],
      "source": [
        "from bs4 import BeautifulSoup # Pegar os dados do site\n",
        "import pandas as pd # Tranformar as noticias em um dataframe(tabela) e salvar em excel, csv, json etc.\n",
        "import requests # Fazer requisições"
      ]
    },
    {
      "cell_type": "markdown",
      "source": [
        "# Fazendo requisição no site do Globo Esporte."
      ],
      "metadata": {
        "id": "nZG0BJ3u5Xli"
      }
    },
    {
      "cell_type": "code",
      "source": [
        "# Requisição no site\n",
        "response = requests.get('https://ge.globo.com/')\n",
        "\n",
        "# Pegando todo o HTML da página\n",
        "content = response.content\n",
        "\n",
        "# Convertendo o conteúdo HTML em um objeto do BeautifulSoup\n",
        "site = BeautifulSoup(content, 'html.parser')\n",
        "\n",
        "# Exibindo o conteudo HTML mais organizado\n",
        "print(site.prettify())\n"
      ],
      "metadata": {
        "id": "JaGzUZs_5X0r"
      },
      "execution_count": null,
      "outputs": []
    },
    {
      "cell_type": "markdown",
      "source": [
        "# Obtendo as divs das notícias"
      ],
      "metadata": {
        "id": "fvcdpuXN6vIM"
      }
    },
    {
      "cell_type": "code",
      "source": [
        "ge_noticias = site.findAll('div', attrs={'class': 'feed-post'})\n",
        "print(ge_noticias)\n",
        "#print(type(ge_noticias)) #<class 'bs4.element.ResultSet'> == lista em python"
      ],
      "metadata": {
        "id": "o-0OJiSH6pox"
      },
      "execution_count": null,
      "outputs": []
    },
    {
      "cell_type": "markdown",
      "source": [
        "# Pegando todas as noticias. Título, subtítulo e link."
      ],
      "metadata": {
        "id": "7IwW0HE97Zic"
      }
    },
    {
      "cell_type": "code",
      "source": [
        "# Lista para armazenar titulo, subtitulo e o link da noticia \n",
        "# e transformar em um dataframe para salvar em excel, csv, json etc.\n",
        "lista_ge_noticias = []\n",
        "\n",
        "# para cada noticia, pegar o título, subtítulo e o link da notícia\n",
        "for noticia in ge_noticias:\n",
        "  titulo = noticia.find('a', attrs={'class':'feed-post-link'}) # print(titulo.text)\n",
        "  subtitulo = noticia.find('div', attrs={'class': 'feed-post-body-resumo'}) # print(subtitulo) dará erro se n tiver um subtitulo\n",
        "  link = noticia.find('a', attrs={'class':'feed-post-link'}).get('href')\n",
        "\n",
        "  # verificando se a noticia possui um subtitulo\n",
        "  if subtitulo:\n",
        "    lista_ge_noticias.append([titulo.text, subtitulo.text, link])\n",
        "  else:\n",
        "    lista_ge_noticias.append([titulo.text, '', link])"
      ],
      "metadata": {
        "id": "mTDtK5LM7ZpV"
      },
      "execution_count": 37,
      "outputs": []
    },
    {
      "cell_type": "markdown",
      "source": [
        "# Colocando as notícias para um dataframe"
      ],
      "metadata": {
        "id": "TB11F081CbIa"
      }
    },
    {
      "cell_type": "code",
      "source": [
        "df_ge_noticias = pd.DataFrame(lista_ge_noticias, columns=['Título', 'Subtítulo', 'Link'])\n",
        "df_ge_noticias.head()"
      ],
      "metadata": {
        "colab": {
          "base_uri": "https://localhost:8080/",
          "height": 206
        },
        "id": "j8ZTst6wCZqK",
        "outputId": "8176cc50-3339-4211-a082-69a3d5fa77f4"
      },
      "execution_count": 38,
      "outputs": [
        {
          "output_type": "execute_result",
          "data": {
            "text/plain": [
              "                                              Título  \\\n",
              "0             📺 Assista aos nossos principais vídeos   \n",
              "1  Neymar dança hit de Mário Mc, jovem de Teresin...   \n",
              "2  Brasil joga sem Lucão e perde para França em a...   \n",
              "3  Abel encerra preparação e terá força máxima co...   \n",
              "4  Valorant: novas configurações de mira chegam a...   \n",
              "\n",
              "                                           Subtítulo  \\\n",
              "0                                                      \n",
              "1  Estourou! Craque do PSG e da seleção brasileir...   \n",
              "2  Em reta final para o Campeonato Mundial, seleç...   \n",
              "3                                                      \n",
              "4  Mudanças estão no servidor de testes do FPS e ...   \n",
              "\n",
              "                                                Link  \n",
              "0  https://ge.globo.com/playlist/assista-aos-noss...  \n",
              "1  https://ge.globo.com/pi/futebol/noticia/2022/0...  \n",
              "2  https://ge.globo.com/volei/noticia/2022/08/20/...  \n",
              "3  https://ge.globo.com/futebol/times/palmeiras/n...  \n",
              "4  https://ge.globo.com/esports/valorant/noticia/...  "
            ],
            "text/html": [
              "\n",
              "  <div id=\"df-2d20e4ea-bb15-4b3b-8391-4ad1ba96615a\">\n",
              "    <div class=\"colab-df-container\">\n",
              "      <div>\n",
              "<style scoped>\n",
              "    .dataframe tbody tr th:only-of-type {\n",
              "        vertical-align: middle;\n",
              "    }\n",
              "\n",
              "    .dataframe tbody tr th {\n",
              "        vertical-align: top;\n",
              "    }\n",
              "\n",
              "    .dataframe thead th {\n",
              "        text-align: right;\n",
              "    }\n",
              "</style>\n",
              "<table border=\"1\" class=\"dataframe\">\n",
              "  <thead>\n",
              "    <tr style=\"text-align: right;\">\n",
              "      <th></th>\n",
              "      <th>Título</th>\n",
              "      <th>Subtítulo</th>\n",
              "      <th>Link</th>\n",
              "    </tr>\n",
              "  </thead>\n",
              "  <tbody>\n",
              "    <tr>\n",
              "      <th>0</th>\n",
              "      <td>📺 Assista aos nossos principais vídeos</td>\n",
              "      <td></td>\n",
              "      <td>https://ge.globo.com/playlist/assista-aos-noss...</td>\n",
              "    </tr>\n",
              "    <tr>\n",
              "      <th>1</th>\n",
              "      <td>Neymar dança hit de Mário Mc, jovem de Teresin...</td>\n",
              "      <td>Estourou! Craque do PSG e da seleção brasileir...</td>\n",
              "      <td>https://ge.globo.com/pi/futebol/noticia/2022/0...</td>\n",
              "    </tr>\n",
              "    <tr>\n",
              "      <th>2</th>\n",
              "      <td>Brasil joga sem Lucão e perde para França em a...</td>\n",
              "      <td>Em reta final para o Campeonato Mundial, seleç...</td>\n",
              "      <td>https://ge.globo.com/volei/noticia/2022/08/20/...</td>\n",
              "    </tr>\n",
              "    <tr>\n",
              "      <th>3</th>\n",
              "      <td>Abel encerra preparação e terá força máxima co...</td>\n",
              "      <td></td>\n",
              "      <td>https://ge.globo.com/futebol/times/palmeiras/n...</td>\n",
              "    </tr>\n",
              "    <tr>\n",
              "      <th>4</th>\n",
              "      <td>Valorant: novas configurações de mira chegam a...</td>\n",
              "      <td>Mudanças estão no servidor de testes do FPS e ...</td>\n",
              "      <td>https://ge.globo.com/esports/valorant/noticia/...</td>\n",
              "    </tr>\n",
              "  </tbody>\n",
              "</table>\n",
              "</div>\n",
              "      <button class=\"colab-df-convert\" onclick=\"convertToInteractive('df-2d20e4ea-bb15-4b3b-8391-4ad1ba96615a')\"\n",
              "              title=\"Convert this dataframe to an interactive table.\"\n",
              "              style=\"display:none;\">\n",
              "        \n",
              "  <svg xmlns=\"http://www.w3.org/2000/svg\" height=\"24px\"viewBox=\"0 0 24 24\"\n",
              "       width=\"24px\">\n",
              "    <path d=\"M0 0h24v24H0V0z\" fill=\"none\"/>\n",
              "    <path d=\"M18.56 5.44l.94 2.06.94-2.06 2.06-.94-2.06-.94-.94-2.06-.94 2.06-2.06.94zm-11 1L8.5 8.5l.94-2.06 2.06-.94-2.06-.94L8.5 2.5l-.94 2.06-2.06.94zm10 10l.94 2.06.94-2.06 2.06-.94-2.06-.94-.94-2.06-.94 2.06-2.06.94z\"/><path d=\"M17.41 7.96l-1.37-1.37c-.4-.4-.92-.59-1.43-.59-.52 0-1.04.2-1.43.59L10.3 9.45l-7.72 7.72c-.78.78-.78 2.05 0 2.83L4 21.41c.39.39.9.59 1.41.59.51 0 1.02-.2 1.41-.59l7.78-7.78 2.81-2.81c.8-.78.8-2.07 0-2.86zM5.41 20L4 18.59l7.72-7.72 1.47 1.35L5.41 20z\"/>\n",
              "  </svg>\n",
              "      </button>\n",
              "      \n",
              "  <style>\n",
              "    .colab-df-container {\n",
              "      display:flex;\n",
              "      flex-wrap:wrap;\n",
              "      gap: 12px;\n",
              "    }\n",
              "\n",
              "    .colab-df-convert {\n",
              "      background-color: #E8F0FE;\n",
              "      border: none;\n",
              "      border-radius: 50%;\n",
              "      cursor: pointer;\n",
              "      display: none;\n",
              "      fill: #1967D2;\n",
              "      height: 32px;\n",
              "      padding: 0 0 0 0;\n",
              "      width: 32px;\n",
              "    }\n",
              "\n",
              "    .colab-df-convert:hover {\n",
              "      background-color: #E2EBFA;\n",
              "      box-shadow: 0px 1px 2px rgba(60, 64, 67, 0.3), 0px 1px 3px 1px rgba(60, 64, 67, 0.15);\n",
              "      fill: #174EA6;\n",
              "    }\n",
              "\n",
              "    [theme=dark] .colab-df-convert {\n",
              "      background-color: #3B4455;\n",
              "      fill: #D2E3FC;\n",
              "    }\n",
              "\n",
              "    [theme=dark] .colab-df-convert:hover {\n",
              "      background-color: #434B5C;\n",
              "      box-shadow: 0px 1px 3px 1px rgba(0, 0, 0, 0.15);\n",
              "      filter: drop-shadow(0px 1px 2px rgba(0, 0, 0, 0.3));\n",
              "      fill: #FFFFFF;\n",
              "    }\n",
              "  </style>\n",
              "\n",
              "      <script>\n",
              "        const buttonEl =\n",
              "          document.querySelector('#df-2d20e4ea-bb15-4b3b-8391-4ad1ba96615a button.colab-df-convert');\n",
              "        buttonEl.style.display =\n",
              "          google.colab.kernel.accessAllowed ? 'block' : 'none';\n",
              "\n",
              "        async function convertToInteractive(key) {\n",
              "          const element = document.querySelector('#df-2d20e4ea-bb15-4b3b-8391-4ad1ba96615a');\n",
              "          const dataTable =\n",
              "            await google.colab.kernel.invokeFunction('convertToInteractive',\n",
              "                                                     [key], {});\n",
              "          if (!dataTable) return;\n",
              "\n",
              "          const docLinkHtml = 'Like what you see? Visit the ' +\n",
              "            '<a target=\"_blank\" href=https://colab.research.google.com/notebooks/data_table.ipynb>data table notebook</a>'\n",
              "            + ' to learn more about interactive tables.';\n",
              "          element.innerHTML = '';\n",
              "          dataTable['output_type'] = 'display_data';\n",
              "          await google.colab.output.renderOutput(dataTable, element);\n",
              "          const docLink = document.createElement('div');\n",
              "          docLink.innerHTML = docLinkHtml;\n",
              "          element.appendChild(docLink);\n",
              "        }\n",
              "      </script>\n",
              "    </div>\n",
              "  </div>\n",
              "  "
            ]
          },
          "metadata": {},
          "execution_count": 38
        }
      ]
    },
    {
      "cell_type": "markdown",
      "source": [
        "# Salvando as notícias do GE em excel"
      ],
      "metadata": {
        "id": "pO-CMoTuCvUF"
      }
    },
    {
      "cell_type": "code",
      "source": [
        "df_ge_noticias.to_excel('noticias_ge.xlsx', index=False)"
      ],
      "metadata": {
        "id": "rITVDh3cCve4"
      },
      "execution_count": 39,
      "outputs": []
    },
    {
      "cell_type": "markdown",
      "source": [
        "# Salvando as notícias do GE em CSV"
      ],
      "metadata": {
        "id": "gg37wINsDmgK"
      }
    },
    {
      "cell_type": "code",
      "source": [
        "df_ge_noticias.to_csv('noticias_ge', sep=']', encoding='utf-8')"
      ],
      "metadata": {
        "id": "KuGNA-ydDs1j"
      },
      "execution_count": 43,
      "outputs": []
    }
  ]
}